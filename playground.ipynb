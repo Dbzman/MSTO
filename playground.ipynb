{
 "cells": [
  {
   "cell_type": "code",
   "id": "initial_id",
   "metadata": {
    "collapsed": true,
    "ExecuteTime": {
     "end_time": "2024-11-09T15:31:54.086521Z",
     "start_time": "2024-11-09T15:31:52.433104Z"
    }
   },
   "source": "",
   "outputs": [],
   "execution_count": 1
  },
  {
   "metadata": {
    "ExecuteTime": {
     "end_time": "2024-12-28T13:49:20.915059Z",
     "start_time": "2024-12-28T13:49:20.896620Z"
    }
   },
   "cell_type": "code",
   "source": [
    "import datetime\n",
    "\n",
    "import pandas\n",
    "\n",
    "from msto.core.data_sources import fetch_stock_data\n",
    "\n",
    "\n",
    "end = pandas.to_datetime(datetime.datetime.today().date())\n",
    "start = pandas.to_datetime(end - datetime.timedelta(days=365))\n",
    "\n",
    "\n",
    "# start = \"2023-12-29\"\n",
    "# end = \"2024-12-29\"\n",
    "\n",
    "data = fetch_stock_data(\"TSLA\", start, end)\n",
    "#\n",
    "#df = yf.download(symbol, start, end)\n",
    "# #df\n",
    "data.iloc[-1]['Close']"
   ],
   "id": "5f44e251852e5ee8",
   "outputs": [
    {
     "data": {
      "text/plain": [
       "np.float64(431.6600036621094)"
      ]
     },
     "execution_count": 20,
     "metadata": {},
     "output_type": "execute_result"
    }
   ],
   "execution_count": 20
  },
  {
   "metadata": {},
   "cell_type": "code",
   "outputs": [],
   "execution_count": null,
   "source": "",
   "id": "64a27df0b71ecb14"
  }
 ],
 "metadata": {
  "kernelspec": {
   "display_name": "Python 3",
   "language": "python",
   "name": "python3"
  },
  "language_info": {
   "codemirror_mode": {
    "name": "ipython",
    "version": 2
   },
   "file_extension": ".py",
   "mimetype": "text/x-python",
   "name": "python",
   "nbconvert_exporter": "python",
   "pygments_lexer": "ipython2",
   "version": "2.7.6"
  }
 },
 "nbformat": 4,
 "nbformat_minor": 5
}
